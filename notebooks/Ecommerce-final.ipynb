{
 "cells": [
  {
   "cell_type": "markdown",
   "metadata": {},
   "source": [
    "Training the model"
   ]
  },
  {
   "cell_type": "code",
   "execution_count": null,
   "metadata": {},
   "outputs": [],
   "source": [
    "import pandas as pd\n",
    "import sys\n",
    "sys.path.append('/mnt/batch/tasks/shared/LS_root/mounts/clusters/churn-model-instance/code/Users/<folder_path_here>')\n",
    "\n",
    "from py_files.train import build_model\n",
    "from py_files.preprocess import preprocess\n",
    "\n",
    "training_data_df = pd.read_csv('../data/Dataset/ECommerce.csv')\n",
    "\n",
    "X_train = preprocess(training_data_df)\n",
    "\n",
    "model_performance_dict = build_model(X_train)\n",
    "\n",
    "print(model_performance_dict)\n"
   ]
  },
  {
   "cell_type": "markdown",
   "metadata": {},
   "source": [
    "Returning Predictions"
   ]
  },
  {
   "cell_type": "code",
   "execution_count": null,
   "metadata": {},
   "outputs": [],
   "source": [
    "import pandas as pd\n",
    "from py_files.inference import make_predictions\n",
    "\n",
    "# Load user data for inference\n",
    "user_data_df = pd.read_csv('../data/Dataset/test.csv')\n",
    "\n",
    "# Call make_predictions function to generate predictions\n",
    "predictions = make_predictions(user_data_df)\n",
    "\n",
    "# Print predictions\n",
    "print(predictions)\n"
   ]
  }
 ],
 "metadata": {
  "kernelspec": {
   "display_name": "Ecommerce",
   "language": "python",
   "name": "python3"
  },
  "language_info": {
   "codemirror_mode": {
    "name": "ipython",
    "version": 3
   },
   "file_extension": ".py",
   "mimetype": "text/x-python",
   "name": "python",
   "nbconvert_exporter": "python",
   "pygments_lexer": "ipython3",
   "version": "3.11.8"
  }
 },
 "nbformat": 4,
 "nbformat_minor": 2
}
